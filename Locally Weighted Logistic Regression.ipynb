{
 "cells": [
  {
   "cell_type": "code",
   "execution_count": 78,
   "metadata": {
    "collapsed": false
   },
   "outputs": [],
   "source": [
    "import numpy as np\n",
    "import sys\n",
    "def LogRegLocal(X, y, x, tau):\n",
    "    weights = np.zeros(X.shape[0])\n",
    "    theta = np.zeros(X.shape[1])\n",
    "    lamda = 0.0001\n",
    "    for i in range(X.shape[0]):\n",
    "        weights[i] = np.exp(-(np.linalg.norm(x - X[i, :])**2) / 2*tau**2)\n",
    "    diff = sys.maxint\n",
    "    hf = lambda t, x: 1/(1 + np.exp(-np.dot(t, x)))\n",
    "    while diff > 0.1 and num_iter < 100:\n",
    "        z = np.zeros(X.shape[0])\n",
    "        D = np.zeros((X.shape[0], X.shape[0]))\n",
    "        for i in range(X.shape[0]):\n",
    "            h = hf(theta, X[i, :])\n",
    "            z[i] = weights[i]*(y[i] - h)\n",
    "            D[i,i] = -weights[i]*h*(1-h)\n",
    "        H = np.transpose(X).dot(D).dot(X) - lamda*np.eye(X.shape[1])\n",
    "        grad = np.transpose(X).dot(z) - lamda*theta\n",
    "        theta_new = theta - np.linalg.inv(H).dot(grad)\n",
    "        diff = np.linalg.norm(theta_new - theta)\n",
    "        theta = theta_new\n",
    "        num_iter += 1\n",
    "    return hf(theta, x) > 0.5\n",
    "\n"
   ]
  },
  {
   "cell_type": "code",
   "execution_count": 93,
   "metadata": {
    "collapsed": false,
    "scrolled": true
   },
   "outputs": [
    {
     "name": "stdout",
     "output_type": "stream",
     "text": [
      "33\n",
      "47\n"
     ]
    }
   ],
   "source": [
    "#Test\n",
    "from sklearn.linear_model import LogisticRegression\n",
    "from sklearn import datasets\n",
    "from numpy.random import permutation\n",
    "\n",
    "iris = datasets.load_iris()\n",
    "indices = permutation(range(150))\n",
    "X = iris.data[indices]\n",
    "y = iris.target[indices]\n",
    "y = (y == 1)\n",
    "\n",
    "Xtrain = X[:-50]\n",
    "ytrain = y[:-50]\n",
    "Xtest =  X[-50:]\n",
    "ytest =  y[-50:]\n",
    "\n",
    "clf = LogisticRegression(C=1.0, penalty='l1', tol=1e-6)\n",
    "clf.fit(X,y)\n",
    "predictions = clf.predict(Xtest)\n",
    "print sum(ytest == predictions)\n",
    "\n",
    "predictions = []\n",
    "for i in range(Xtest.shape[0]):\n",
    "    pred = LogRegLocal(Xtrain, ytrain, Xtest[i, :], 3)\n",
    "    predictions.append(pred)\n",
    "print sum(predictions == ytest)"
   ]
  },
  {
   "cell_type": "code",
   "execution_count": null,
   "metadata": {
    "collapsed": true
   },
   "outputs": [],
   "source": []
  }
 ],
 "metadata": {
  "kernelspec": {
   "display_name": "Python 2",
   "language": "python",
   "name": "python2"
  },
  "language_info": {
   "codemirror_mode": {
    "name": "ipython",
    "version": 2
   },
   "file_extension": ".py",
   "mimetype": "text/x-python",
   "name": "python",
   "nbconvert_exporter": "python",
   "pygments_lexer": "ipython2",
   "version": "2.7.10"
  }
 },
 "nbformat": 4,
 "nbformat_minor": 0
}
