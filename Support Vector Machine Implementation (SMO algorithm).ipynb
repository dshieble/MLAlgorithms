{
 "cells": [
  {
   "cell_type": "code",
   "execution_count": 1,
   "metadata": {
    "collapsed": false
   },
   "outputs": [],
   "source": [
    "\n",
    "\n",
    "import numpy as np\n",
    "import sys\n",
    "import random \n",
    "\n",
    "\"\"\"\n",
    "An implementation of the sequencial minimal optimization algorithm for support vector machines\n",
    "Essentially the algorithm just repeatedly chooses 2 alpha values and tweaks them together to \n",
    "minimize the cost function.\n",
    "\n",
    "K is the kernel function, represented as a lambda. Default is linear. \n",
    "\n",
    "Larger C allows for larger alpha values, which means that individual examples have more weight \n",
    "in the decision, and that more vectors can be support vectors.\n",
    "\"\"\"\n",
    "def mySVC(X, y01, Xtest, K = lambda x,z: x.dot(z), C = 1, tol = 10**-4, max_passes = 2):\n",
    "    y = [-1 if not b else 1 for b in y01]\n",
    "    m = len(y)\n",
    "    a = np.zeros(m)\n",
    "    b = 0\n",
    "    passes = 0\n",
    "    f = lambda x : sum([a[i]*y[i]*K(X[i,:], x) for i in range(m)]) + b\n",
    "    while passes < max_passes:\n",
    "        num_changed_alphas = 0\n",
    "        for i in range(m):\n",
    "            Ei = f(X[i,:]) - y[i]\n",
    "            if (y[i]*Ei < -tol and a[i] < C) or (y[i]*Ei > tol and a[i] > 0):\n",
    "                j = random.choice(range(m)[1:i] + range(m)[i+1:]) #random, not i\n",
    "                Ej = f(X[j,:]) - y[j]\n",
    "                a_old = list(a)\n",
    "                if y[i] != y[j]:\n",
    "                    L = max(0, a[j] - a[i])\n",
    "                    H = min(C, C+a[j] - a[i])\n",
    "                else:\n",
    "                    L = max(0, a[i] + a[j] - C)\n",
    "                    H = min(C, a[i] + a[j])\n",
    "                if L == H:\n",
    "                    continue\n",
    "                eta = 2 * K(X[i, :], X[j, :]) - K(X[i, :], X[i, :]) - K(X[j, :], X[j, :])\n",
    "                if eta == 0:\n",
    "                    continue\n",
    "                a[j] = a[j] - float((y[j]*(Ei - Ej)))/eta\n",
    "                a[j] = min(max(L, a[j]), H)\n",
    "                if abs(a[j] - a_old[j]) < 10**-5:\n",
    "                    continue\n",
    "                a[i] = a[i] + y[i]*y[j]*(a_old[j] - a[j])\n",
    "                b1 = b - Ei - y[i]*(a[i] - a_old[i])*K(X[i,:], X[i,:]) \\\n",
    "                    - y[j]*(a[j] - a_old[j])*K(X[i,:], X[j,:])\n",
    "                b2 = b - Ej - y[i]*(a[i] - a_old[i])*K(X[i,:], X[j,:]) \\\n",
    "                    - y[j]*(a[j] - a_old[j])*K(X[j,:], X[j,:])\n",
    "                if a[i] > 0 and a[i] < C:\n",
    "                    b = b1\n",
    "                elif a[j] > 0 and a[j] < C:\n",
    "                    b = b2\n",
    "                else:\n",
    "                    b = float(b1 + b2)/2\n",
    "                num_changed_alphas = num_changed_alphas + 1\n",
    "        if num_changed_alphas == 0:\n",
    "            passes = passes + 1\n",
    "        else:\n",
    "            passes = 0\n",
    "    predictions = []\n",
    "    for i in range(Xtest.shape[0]):\n",
    "        predictions.append(f(Xtest[i,:]) > 0)\n",
    "    return predictions\n",
    "\n"
   ]
  },
  {
   "cell_type": "code",
   "execution_count": 4,
   "metadata": {
    "collapsed": false,
    "scrolled": true
   },
   "outputs": [
    {
     "name": "stdout",
     "output_type": "stream",
     "text": [
      "sklearn: 49\n",
      "Dan: 49\n"
     ]
    }
   ],
   "source": [
    "#Test\n",
    "from sklearn.linear_model import LogisticRegression\n",
    "from sklearn.svm import SVC\n",
    "from sklearn import datasets\n",
    "from numpy.random import permutation\n",
    "\n",
    "iris = datasets.load_iris()\n",
    "indices = permutation(range(150))\n",
    "X = iris.data[indices]\n",
    "y = iris.target[indices]\n",
    "y = (y == 1)\n",
    "\n",
    "Xtrain = X[:-50]\n",
    "ytrain = y[:-50]\n",
    "Xtest =  X[-50:]\n",
    "ytest =  y[-50:]\n",
    "\n",
    "clf = SVC()\n",
    "clf.fit(X,y)\n",
    "predictions = clf.predict(Xtest)\n",
    "print \"sklearn: \" + str(sum(ytest == predictions))\n",
    "\n",
    "rbf = lambda x,z: np.exp(-(np.linalg.norm(x - z)**2)*.1) #The popular RBF kernel\n",
    "myPredictions = mySVC(Xtrain,ytrain,Xtest, K=rbf)\n",
    "print \"Dan: \" + str(sum(ytest == myPredictions))\n"
   ]
  },
  {
   "cell_type": "code",
   "execution_count": null,
   "metadata": {
    "collapsed": true
   },
   "outputs": [],
   "source": []
  }
 ],
 "metadata": {
  "kernelspec": {
   "display_name": "Python 2",
   "language": "python",
   "name": "python2"
  },
  "language_info": {
   "codemirror_mode": {
    "name": "ipython",
    "version": 2
   },
   "file_extension": ".py",
   "mimetype": "text/x-python",
   "name": "python",
   "nbconvert_exporter": "python",
   "pygments_lexer": "ipython2",
   "version": "2.7.10"
  }
 },
 "nbformat": 4,
 "nbformat_minor": 0
}
